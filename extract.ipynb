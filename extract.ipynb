{
 "cells": [
  {
   "cell_type": "code",
   "execution_count": 11,
   "metadata": {},
   "outputs": [],
   "source": [
    "#ingestion and vectorization of the content\n",
    "import PyPDF2\n",
    "from PyPDF2 import PdfReader\n",
    "from pdfminer.high_level import extract_text\n",
    "from langchain_community.document_loaders import DirectoryLoader, PyPDFLoader\n",
    "from langchain.text_splitter import RecursiveCharacterTextSplitter"
   ]
  },
  {
   "cell_type": "code",
   "execution_count": 9,
   "metadata": {},
   "outputs": [
    {
     "name": "stdout",
     "output_type": "stream",
     "text": [
      "<class 'str'>\n",
      "[Document(page_content='Category:Belgian surrealist artists\\nThis category has the following 2 s ubcategories, out of 2 total', metadata={'source': 'database/Category_Belgian_surrealist_artists.pdf', 'page': 0}), Document(page_content='.\\nRené Magritte  (1 C, 7 P)\\nBelgian surrealist writers  (7 P)\\nThe following 21 pa ges are in this category, out of 21 total. This list may not  reflect recent changes', metadata={'source': 'database/Category_Belgian_surrealist_artists.pdf', 'page': 0}), Document(page_content='.\\nRachel Baes\\nMarcel Broodthaers\\nJacques Calonne\\nPaul Delvaux\\nDupa\\nJonas GeirnaertSubcategories\\nM\\nW\\nPages in category \"Belgian surrealist artists\"\\nB\\nC\\nD\\nG', metadata={'source': 'database/Category_Belgian_surrealist_artists.pdf', 'page': 0}), Document(page_content='Jane Graverol\\nIrène Hamoir\\nJeroom\\nKamagurka\\nRené Magritte\\nMarcel Mariën\\nHugo Matthysen\\nNeveneffecten (cabaret)\\nJoseph Noiret\\nPaul Nougé\\nHerr Seele\\nLes Snuls\\nUrbanus\\nRoger Van de Wouwer\\nFrits Van den Berghe\\nRetrieved from \"https://en', metadata={'source': 'database/Category_Belgian_surrealist_artists.pdf', 'page': 1}), Document(page_content='.wikipedia.org/w/index.php?title=Category:Belgian_surrealist_artists&oldid=895382886\"H\\nJ\\nK\\nM\\nN\\nS\\nU\\nV', metadata={'source': 'database/Category_Belgian_surrealist_artists.pdf', 'page': 1})]\n"
     ]
    }
   ],
   "source": [
    "text = extract_text('database/Category_Belgian_surrealist_artists.pdf')\n",
    "print(type(text))\n",
    "# Split the pdf into chunk using RecursiveCharacterTextSplitter\n",
    "splitter = RecursiveCharacterTextSplitter(\n",
    "chunk_size=200, \n",
    "chunk_overlap=20, \n",
    "separators=[\"\\\\n\\\\n\\\\n\",\"\\\\n\\\\n\",\"\\\\n\",\".\"]\n",
    ")\n",
    "chunks = splitter.split_documents(data)\n",
    "print(chunks)\n",
    "\n"
   ]
  },
  {
   "cell_type": "code",
   "execution_count": 8,
   "metadata": {},
   "outputs": [
    {
     "name": "stdout",
     "output_type": "stream",
     "text": [
      "[Document(page_content='Category:Belgian surrealist artists\\nThis category has the following 2 s ubcategories, out of 2 total.\\nRené Magritte  (1 C, 7 P)\\nBelgian surrealist writers  (7 P)\\nThe following 21 pa ges are in this category, out of 21 total. This list may not  reflect recent changes.\\nRachel Baes\\nMarcel Broodthaers\\nJacques Calonne\\nPaul Delvaux\\nDupa\\nJonas GeirnaertSubcategories\\nM\\nW\\nPages in category \"Belgian surrealist artists\"\\nB\\nC\\nD\\nG', metadata={'source': 'database/Category_Belgian_surrealist_artists.pdf', 'page': 0}), Document(page_content='Jane Graverol\\nIrène Hamoir\\nJeroom\\nKamagurka\\nRené Magritte\\nMarcel Mariën\\nHugo Matthysen\\nNeveneffecten (cabaret)\\nJoseph Noiret\\nPaul Nougé\\nHerr Seele\\nLes Snuls\\nUrbanus\\nRoger Van de Wouwer\\nFrits Van den Berghe\\nRetrieved from \"https://en.wikipedia.org/w/index.php?title=Category:Belgian_surrealist_artists&oldid=895382886\"H\\nJ\\nK\\nM\\nN\\nS\\nU\\nV\\n', metadata={'source': 'database/Category_Belgian_surrealist_artists.pdf', 'page': 1})]\n",
      "<class 'list'>\n",
      "[Document(page_content='Category:Belgian surrealist artists\\nThis category has the following 2 s ubcategories, out of 2 total', metadata={'source': 'database/Category_Belgian_surrealist_artists.pdf', 'page': 0}), Document(page_content='.\\nRené Magritte  (1 C, 7 P)\\nBelgian surrealist writers  (7 P)\\nThe following 21 pa ges are in this category, out of 21 total. This list may not  reflect recent changes', metadata={'source': 'database/Category_Belgian_surrealist_artists.pdf', 'page': 0}), Document(page_content='.\\nRachel Baes\\nMarcel Broodthaers\\nJacques Calonne\\nPaul Delvaux\\nDupa\\nJonas GeirnaertSubcategories\\nM\\nW\\nPages in category \"Belgian surrealist artists\"\\nB\\nC\\nD\\nG', metadata={'source': 'database/Category_Belgian_surrealist_artists.pdf', 'page': 0}), Document(page_content='Jane Graverol\\nIrène Hamoir\\nJeroom\\nKamagurka\\nRené Magritte\\nMarcel Mariën\\nHugo Matthysen\\nNeveneffecten (cabaret)\\nJoseph Noiret\\nPaul Nougé\\nHerr Seele\\nLes Snuls\\nUrbanus\\nRoger Van de Wouwer\\nFrits Van den Berghe\\nRetrieved from \"https://en', metadata={'source': 'database/Category_Belgian_surrealist_artists.pdf', 'page': 1}), Document(page_content='.wikipedia.org/w/index.php?title=Category:Belgian_surrealist_artists&oldid=895382886\"H\\nJ\\nK\\nM\\nN\\nS\\nU\\nV', metadata={'source': 'database/Category_Belgian_surrealist_artists.pdf', 'page': 1})]\n"
     ]
    }
   ],
   "source": [
    "    loader = PyPDFLoader('database/Category_Belgian_surrealist_artists.pdf')\n",
    "    data = loader.load()\n",
    "    print(data)\n",
    "    print(type(data))\n",
    "\n",
    "    # Split the pdf into chunk using RecursiveCharacterTextSplitter\n",
    "    splitter = RecursiveCharacterTextSplitter(\n",
    "    chunk_size=200, \n",
    "    chunk_overlap=20, \n",
    "    separators=[\"\\\\n\\\\n\\\\n\",\"\\\\n\\\\n\",\"\\\\n\",\".\"]\n",
    "    )\n",
    "    chunks = splitter.split_documents(data)\n",
    "    print(chunks)"
   ]
  },
  {
   "cell_type": "code",
   "execution_count": 27,
   "metadata": {},
   "outputs": [
    {
     "name": "stdout",
     "output_type": "stream",
     "text": [
      "<class 'str'>\n",
      "Category:Belgian surrealist artists\n",
      "This category has the following 2 s ubcategories, out of 2 total.\n",
      "René Magritte  (1 C, 7 P)\n",
      "Belgian surrealist writers  (7 P)\n",
      "The following 21 pa ges are in this category, out of 21 total. This list may not  reflect recent changes.\n",
      "Rachel Baes\n",
      "Marcel Broodthaers\n",
      "Jacques Calonne\n",
      "Paul Delvaux\n",
      "Dupa\n",
      "Jonas GeirnaertSubcategories\n",
      "M\n",
      "W\n",
      "Pages in category \"Belgian surrealist artists\"\n",
      "B\n",
      "C\n",
      "D\n",
      "GJane Graverol\n",
      "Irène Hamoir\n",
      "Jeroom\n",
      "Kamagurka\n",
      "René Magritte\n",
      "Marcel Mariën\n",
      "Hugo Matthysen\n",
      "Neveneffecten (cabaret)\n",
      "Joseph Noiret\n",
      "Paul Nougé\n",
      "Herr Seele\n",
      "Les Snuls\n",
      "Urbanus\n",
      "Roger Van de Wouwer\n",
      "Frits Van den Berghe\n",
      "Retrieved from \"https://en.wikipedia.org/w/index.php?title=Category:Belgian_surrealist_artists&oldid=895382886\"H\n",
      "J\n",
      "K\n",
      "M\n",
      "N\n",
      "S\n",
      "U\n",
      "V\n",
      "\n",
      "['Category:Belgian surrealist artists\\nThis category has the following 2 s ubcategories, out of 2 total.\\nRené Magritte  (1 C, 7 P)\\nBelgian surrealist writers  (7 P)\\nThe following 21 pa ges are in this category, out of 21 total. This list may not  reflect recent changes', '. This list may not  reflect recent changes.\\nRachel Baes\\nMarcel Broodthaers\\nJacques Calonne\\nPaul Delvaux\\nDupa\\nJonas GeirnaertSubcategories\\nM\\nW\\nPages in category \"Belgian surrealist artists\"\\nB\\nC\\nD\\nGJane Graverol\\nIrène Hamoir\\nJeroom\\nKamagurka\\nRené Magritte\\nMarcel Mariën\\nHugo Matthysen\\nNeveneffecten (cabaret)\\nJoseph Noiret\\nPaul Nougé\\nHerr Seele\\nLes Snuls\\nUrbanus\\nRoger Van de Wouwer\\nFrits Van den Berghe\\nRetrieved from \"https://en.wikipedia.org/w/index', '.wikipedia.org/w/index.php?title=Category:Belgian_surrealist_artists&oldid=895382886\"H\\nJ\\nK\\nM\\nN\\nS\\nU\\nV']\n",
      "<class 'list'>\n"
     ]
    }
   ],
   "source": [
    "# def extract_text_without_metadata(pdf_path):\n",
    "#     text = \"\"\n",
    "#     with open(pdf_path, 'rb') as file:\n",
    "#         reader = PyPDF2.PdfReader(file)\n",
    "        \n",
    "#         # Iterate through each page\n",
    "#         for page_num in range(len(reader.pages)):\n",
    "#             page = reader.pages[page_num]\n",
    "            \n",
    "#             # Extract text from the page\n",
    "#             text += page.extract_text()\n",
    "    \n",
    "#     return text\n",
    "\n",
    "# Specify the path to your PDF file\n",
    "pdf_path = 'database/Category_Belgian_surrealist_artists.pdf'\n",
    "\n",
    "# Extract text without metadata\n",
    "text = extract_text_without_metadata(pdf_path)\n",
    "print(type(text))\n",
    "print(text)\n",
    "\n",
    "# Split the pdf into chunk using RecursiveCharacterTextSplitter\n",
    "splitter = RecursiveCharacterTextSplitter(\n",
    "chunk_size=500, \n",
    "chunk_overlap=50, \n",
    "separators=[\"\\\\n\\\\n\\\\n\",\"\\\\n\\\\n\",\"\\\\n\",\".\"]\n",
    ")\n",
    "chunks = splitter.split_text(text)\n",
    "print(chunks)\n",
    "print(type(chunks))"
   ]
  },
  {
   "cell_type": "code",
   "execution_count": null,
   "metadata": {},
   "outputs": [],
   "source": []
  },
  {
   "cell_type": "code",
   "execution_count": null,
   "metadata": {},
   "outputs": [],
   "source": []
  }
 ],
 "metadata": {
  "kernelspec": {
   "display_name": "venv_rag5",
   "language": "python",
   "name": "python3"
  },
  "language_info": {
   "codemirror_mode": {
    "name": "ipython",
    "version": 3
   },
   "file_extension": ".py",
   "mimetype": "text/x-python",
   "name": "python",
   "nbconvert_exporter": "python",
   "pygments_lexer": "ipython3",
   "version": "3.11.7"
  }
 },
 "nbformat": 4,
 "nbformat_minor": 2
}
